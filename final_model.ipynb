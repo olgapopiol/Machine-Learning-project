{
  "nbformat": 4,
  "nbformat_minor": 0,
  "metadata": {
    "kernelspec": {
      "display_name": "Python 3",
      "language": "python",
      "name": "python3"
    },
    "language_info": {
      "codemirror_mode": {
        "name": "ipython",
        "version": 3
      },
      "file_extension": ".py",
      "mimetype": "text/x-python",
      "name": "python",
      "nbconvert_exporter": "python",
      "pygments_lexer": "ipython3",
      "version": "3.7.3"
    },
    "colab": {
      "name": "model.ipynb",
      "provenance": [],
      "include_colab_link": true
    }
  },
  "cells": [
    {
      "cell_type": "markdown",
      "metadata": {
        "id": "view-in-github",
        "colab_type": "text"
      },
      "source": [
        "<a href=\"https://colab.research.google.com/github/opopiol/ML_project/blob/model/final_model.ipynb\" target=\"_parent\"><img src=\"https://colab.research.google.com/assets/colab-badge.svg\" alt=\"Open In Colab\"/></a>"
      ]
    },
    {
      "cell_type": "code",
      "metadata": {
        "id": "hGsZZAHJNyzU"
      },
      "source": [
        "import pandas as pd\n",
        "import numpy as np\n",
        "import seaborn as sns\n",
        "import matplotlib.pyplot as plt\n",
        "import os\n",
        "\n",
        "from sklearn.model_selection import train_test_split\n",
        "from sklearn.metrics import accuracy_score, confusion_matrix, f1_score\n",
        "\n",
        "from sklearn.dummy import DummyClassifier\n",
        "from sklearn.linear_model import LogisticRegression\n",
        "from sklearn.neighbors import KNeighborsClassifier\n",
        "from sklearn.neighbors import KNeighborsClassifier\n",
        "from sklearn.tree import DecisionTreeClassifier\n",
        "from sklearn.ensemble import RandomForestClassifier, AdaBoostClassifier, VotingClassifier\n",
        "from sklearn.cluster import KMeans\n",
        "\n",
        "from sklearn.preprocessing import StandardScaler, MinMaxScaler\n",
        "from sklearn.decomposition import PCA\n",
        "from sklearn.manifold import TSNE\n",
        "from sklearn.pipeline import Pipeline\n",
        "from sklearn.model_selection import GridSearchCV\n",
        "from sklearn.svm import SVC\n",
        "from sklearn import svm\n",
        "from imblearn.over_sampling import SMOTE"
      ],
      "execution_count": 29,
      "outputs": []
    },
    {
      "cell_type": "markdown",
      "metadata": {
        "id": "gwqkqdg9AvUV"
      },
      "source": [
        "### **Neptune**"
      ]
    },
    {
      "cell_type": "code",
      "metadata": {
        "colab": {
          "base_uri": "https://localhost:8080/"
        },
        "id": "1RaaZkwf1zhQ",
        "outputId": "0fa7987a-aba5-46a5-91a8-ad6b8e88756d"
      },
      "source": [
        "%pip install --upgrade --quiet neptune-client\n",
        "#pip install neptune-notebooks"
      ],
      "execution_count": 2,
      "outputs": [
        {
          "output_type": "stream",
          "text": [
            "\u001b[K     |████████████████████████████████| 245kB 5.1MB/s \n",
            "\u001b[K     |████████████████████████████████| 829kB 8.4MB/s \n",
            "\u001b[K     |████████████████████████████████| 71kB 6.3MB/s \n",
            "\u001b[K     |████████████████████████████████| 174kB 14.4MB/s \n",
            "\u001b[K     |████████████████████████████████| 71kB 6.6MB/s \n",
            "\u001b[K     |████████████████████████████████| 133kB 16.8MB/s \n",
            "\u001b[K     |████████████████████████████████| 71kB 6.9MB/s \n",
            "\u001b[?25h  Building wheel for neptune-client (setup.py) ... \u001b[?25l\u001b[?25hdone\n",
            "  Building wheel for future (setup.py) ... \u001b[?25l\u001b[?25hdone\n",
            "  Building wheel for strict-rfc3339 (setup.py) ... \u001b[?25l\u001b[?25hdone\n"
          ],
          "name": "stdout"
        }
      ]
    },
    {
      "cell_type": "code",
      "metadata": {
        "colab": {
          "base_uri": "https://localhost:8080/"
        },
        "id": "cDrBmeUh15rw",
        "outputId": "b17a54d5-af92-4190-9c9f-11d9e6a7e43e"
      },
      "source": [
        "import neptune.new as neptune\n",
        "#run = neptune.init(project='opopiol/ML-project')\n",
        "run = neptune.init(project='opopiol/ML-project',\n",
        "                   api_token='eyJhcGlfYWRkcmVzcyI6Imh0dHBzOi8vYXBwLm5lcHR1bmUuYWkiLCJhcGlfdXJsIjoiaHR0cHM6Ly9hcHAubmVwdHVuZS5haSIsImFwaV9rZXkiOiI5YjIyYjU2ZS0wMTc5LTQ3NWUtOWZkZC05OTg2YzI1M2VkNDUifQ==') # your credentials\n",
        "\n",
        "run[\"JIRA\"] = \"NPT-952\"\n",
        "run[\"parameters\"] = {\"learning_rate\": 0.001,\n",
        "                     \"optimizer\": \"Adam\"}\n",
        "\n",
        "for epoch in range(100):\n",
        "   run[\"train/loss\"].log(epoch * 0.4)\n",
        "run[\"eval/f1_score\"] = 0.66"
      ],
      "execution_count": 3,
      "outputs": [
        {
          "output_type": "stream",
          "text": [
            "Info (NVML): Driver Not Loaded. GPU usage metrics may not be reported. For more information, see https://docs-legacy.neptune.ai/logging-and-managing-experiment-results/logging-experiment-data.html#hardware-consumption \n"
          ],
          "name": "stderr"
        },
        {
          "output_type": "stream",
          "text": [
            "https://app.neptune.ai/opopiol/ML-project/e/MLPROJ-11\n",
            "Remember to stop your run once you’ve finished logging your metadata (https://docs.neptune.ai/api-reference/run#stop). It will be stopped automatically only when the notebook kernel/interactive console is terminated.\n"
          ],
          "name": "stdout"
        }
      ]
    },
    {
      "cell_type": "markdown",
      "metadata": {
        "id": "jWOcXqaZATei"
      },
      "source": [
        "###**Reducing DataFrame memory size**\n"
      ]
    },
    {
      "cell_type": "code",
      "metadata": {
        "id": "UOXqGY4rx6-8"
      },
      "source": [
        "#Reducing DataFrame memory size\n",
        "#https://www.kaggle.com/arjanso/reducing-dataframe-memory-size-by-65?fbclid=IwAR3XPzjakD69RqAEKuAnTDUtfw3AeCAj19eyd6LfzVSwHHICNgxW-ptK-vs\n",
        "\n",
        "def reduce_mem_usage(props):\n",
        "    start_mem_usg = props.memory_usage().sum() / 1024**2 \n",
        "    print(\"Memory usage of properties dataframe is :\",start_mem_usg,\" MB\")\n",
        "    NAlist = [] # Keeps track of columns that have missing values filled in. \n",
        "    for col in props.columns:\n",
        "        if props[col].dtype != object:  # Exclude strings\n",
        "            \n",
        "            # Print current column type\n",
        "            #print(\"******************************\")\n",
        "            #print(\"Column: \",col)\n",
        "            #print(\"dtype before: \",props[col].dtype)\n",
        "            \n",
        "            # make variables for Int, max and min\n",
        "            IsInt = False\n",
        "            mx = props[col].max()\n",
        "            mn = props[col].min()\n",
        "            \n",
        "            # Integer does not support NA, therefore, NA needs to be filled\n",
        "            if not np.isfinite(props[col]).all(): \n",
        "                NAlist.append(col)\n",
        "                props[col].fillna(mn-1,inplace=True)  \n",
        "                   \n",
        "            # test if column can be converted to an integer\n",
        "            asint = props[col].fillna(0).astype(np.int64)\n",
        "            result = (props[col] - asint)\n",
        "            result = result.sum()\n",
        "            if result > -0.01 and result < 0.01:\n",
        "                IsInt = True\n",
        "\n",
        "            \n",
        "            # Make Integer/unsigned Integer datatypes\n",
        "            if IsInt:\n",
        "                if mn >= 0:\n",
        "                    if mx < 255:\n",
        "                        props[col] = props[col].astype(np.uint8)\n",
        "                    elif mx < 65535:\n",
        "                        props[col] = props[col].astype(np.uint16)\n",
        "                    elif mx < 4294967295:\n",
        "                        props[col] = props[col].astype(np.uint32)\n",
        "                    else:\n",
        "                        props[col] = props[col].astype(np.uint64)\n",
        "                else:\n",
        "                    if mn > np.iinfo(np.int8).min and mx < np.iinfo(np.int8).max:\n",
        "                        props[col] = props[col].astype(np.int8)\n",
        "                    elif mn > np.iinfo(np.int16).min and mx < np.iinfo(np.int16).max:\n",
        "                        props[col] = props[col].astype(np.int16)\n",
        "                    elif mn > np.iinfo(np.int32).min and mx < np.iinfo(np.int32).max:\n",
        "                        props[col] = props[col].astype(np.int32)\n",
        "                    elif mn > np.iinfo(np.int64).min and mx < np.iinfo(np.int64).max:\n",
        "                        props[col] = props[col].astype(np.int64)    \n",
        "            \n",
        "            # Make float datatypes 32 bit\n",
        "            else:\n",
        "                props[col] = props[col].astype(np.float32)\n",
        "            \n",
        "            # Print new column type\n",
        "            #print(\"dtype after: \",props[col].dtype)\n",
        "            #print(\"******************************\")\n",
        "    \n",
        "    # Print final result\n",
        "    print(\"___MEMORY USAGE AFTER COMPLETION:___\")\n",
        "    mem_usg = props.memory_usage().sum() / 1024**2 \n",
        "    print(\"Memory usage is: \",mem_usg,\" MB\")\n",
        "    print(\"This is \",100*mem_usg/start_mem_usg,\"% of the initial size\")\n",
        "    return props"
      ],
      "execution_count": 4,
      "outputs": []
    },
    {
      "cell_type": "markdown",
      "metadata": {
        "id": "xhDgfjBvA7Kx"
      },
      "source": [
        "### **Data import**"
      ]
    },
    {
      "cell_type": "code",
      "metadata": {
        "colab": {
          "base_uri": "https://localhost:8080/"
        },
        "id": "9CZgtAywKyPj",
        "outputId": "5ec27372-3b24-4404-e3a7-9a4c29623e13"
      },
      "source": [
        "from google.colab import drive\n",
        "drive.mount('/content/drive')"
      ],
      "execution_count": 5,
      "outputs": [
        {
          "output_type": "stream",
          "text": [
            "Mounted at /content/drive\n"
          ],
          "name": "stdout"
        }
      ]
    },
    {
      "cell_type": "code",
      "metadata": {
        "id": "C2W9TKZeVGkV"
      },
      "source": [
        "#import train dataset\n",
        "train_path = '/content/drive/MyDrive/project/train_data.csv'\n",
        "train_data = pd.read_csv(train_path, header=None)"
      ],
      "execution_count": 6,
      "outputs": []
    },
    {
      "cell_type": "code",
      "metadata": {
        "colab": {
          "base_uri": "https://localhost:8080/"
        },
        "id": "rPbtmxPSyb3a",
        "outputId": "8998e7f4-c67b-451c-aaea-6c8a6b0765a7"
      },
      "source": [
        "train_data= reduce_mem_usage(train_data)"
      ],
      "execution_count": 7,
      "outputs": [
        {
          "output_type": "stream",
          "text": [
            "Memory usage of properties dataframe is : 286.1024169921875  MB\n",
            "___MEMORY USAGE AFTER COMPLETION:___\n",
            "Memory usage is:  143.05126953125  MB\n",
            "This is  50.000021333324234 % of the initial size\n"
          ],
          "name": "stdout"
        }
      ]
    },
    {
      "cell_type": "code",
      "metadata": {
        "id": "03EzdvWnNyzl"
      },
      "source": [
        "#import labels\n",
        "labels_path = '/content/drive/MyDrive/project/train_labels.csv'\n",
        "labels = pd.read_csv(labels_path, header=None,  names=['y'])"
      ],
      "execution_count": 8,
      "outputs": []
    },
    {
      "cell_type": "code",
      "metadata": {
        "colab": {
          "base_uri": "https://localhost:8080/"
        },
        "id": "YHbYwjB0y5BI",
        "outputId": "918d3fab-c946-4db0-a583-5c059745bfcc"
      },
      "source": [
        "labels= reduce_mem_usage(labels)"
      ],
      "execution_count": 9,
      "outputs": [
        {
          "output_type": "stream",
          "text": [
            "Memory usage of properties dataframe is : 0.0287322998046875  MB\n",
            "___MEMORY USAGE AFTER COMPLETION:___\n",
            "Memory usage is:  0.0036983489990234375  MB\n",
            "This is  12.871747211895912 % of the initial size\n"
          ],
          "name": "stdout"
        }
      ]
    },
    {
      "cell_type": "code",
      "metadata": {
        "id": "J_Ue2_rUVzvv"
      },
      "source": [
        "#import test dataset\n",
        "test_path = '/content/drive/MyDrive/project/test_data.csv'\n",
        "test_data = pd.read_csv(test_path, header=None)"
      ],
      "execution_count": 10,
      "outputs": []
    },
    {
      "cell_type": "code",
      "metadata": {
        "colab": {
          "base_uri": "https://localhost:8080/"
        },
        "id": "_spfhyV5y6v6",
        "outputId": "a6fa4304-a5d9-42fd-f749-1b1ca8b0db87"
      },
      "source": [
        "test_data= reduce_mem_usage(test_data)"
      ],
      "execution_count": 11,
      "outputs": [
        {
          "output_type": "stream",
          "text": [
            "Memory usage of properties dataframe is : 95.3675537109375  MB\n",
            "___MEMORY USAGE AFTER COMPLETION:___\n",
            "Memory usage is:  47.67668533325195  MB\n",
            "This is  49.99256400951807 % of the initial size\n"
          ],
          "name": "stdout"
        }
      ]
    },
    {
      "cell_type": "markdown",
      "metadata": {
        "id": "5n_sjPPS_iMh"
      },
      "source": [
        "### **Data splitting**"
      ]
    },
    {
      "cell_type": "code",
      "metadata": {
        "id": "YaADpHBANyzn"
      },
      "source": [
        "X, y = train_data, labels\n",
        "X_train, X_test, y_train, y_test = train_test_split(X, y, test_size=0.3, stratify = y)"
      ],
      "execution_count": 32,
      "outputs": []
    },
    {
      "cell_type": "markdown",
      "metadata": {
        "id": "tWIEm5-dSDfB"
      },
      "source": [
        "### **MODEL**"
      ]
    },
    {
      "cell_type": "code",
      "metadata": {
        "id": "MhzpuZfmNgwq"
      },
      "source": [
        "def get_confusion_matrix(classifier):\n",
        "    \"\"\"This function returns a confusion matrix of given classifier\n",
        "    :param classifier: classifier\n",
        "    :return: print(confusion_matrix(y_test, y_pred)): confusion matrix of given classifier\n",
        "    \"\"\"\n",
        "    m = classifier\n",
        "    m.fit(X_train, y_train.values.ravel())\n",
        "    y_pred = m.predict(X_test)\n",
        "    print(confusion_matrix(y_test, y_pred))"
      ],
      "execution_count": 13,
      "outputs": []
    },
    {
      "cell_type": "markdown",
      "metadata": {
        "id": "pcbAj3GlBF8H"
      },
      "source": [
        "### **Baseline**"
      ]
    },
    {
      "cell_type": "code",
      "metadata": {
        "colab": {
          "base_uri": "https://localhost:8080/",
          "height": 490
        },
        "id": "aXKzQAxdNyzo",
        "outputId": "f13df82f-bf0f-4440-e31a-94fe6a15f710"
      },
      "source": [
        "#baseline\n",
        "strategies = ['stratified', 'most_frequent', 'uniform', 'prior']\n",
        "\n",
        "def dummy_base(list):\n",
        "  \"\"\"This function returns scores and plot with scores of the given strategies of DummyClassifier\n",
        "    :param list: list of strategies\n",
        "    :return: print(f'For {i} strategy score is {dummy_clf_score} with labels: {dummy_labels}'): scores of the strategies given in the list and labels\n",
        "    :return: plt.bar(i, dummy_clf_score): plot with scores of the strategies given in the list\n",
        "    :return: get_confusion_matrix(dummy_clf): function returning a confusion matrix\n",
        "    \"\"\"\n",
        "  for i in list:\n",
        "      dummy_clf = DummyClassifier(strategy=i)\n",
        "      dummy_clf.fit(X_train, y_train.values.ravel())\n",
        "      y_pred = dummy_clf.predict(X_test)\n",
        "      dummy_clf_score = f1_score(y_test, y_pred)\n",
        "      dummy_labels = np.unique(dummy_clf.predict(X_test))\n",
        "      print(f'For {i} strategy f1 score is {dummy_clf_score} with labels: {dummy_labels}')\n",
        "      get_confusion_matrix(dummy_clf)\n",
        "      \n",
        "      plt.title('Strategies of DummyClassifier')\n",
        "      plt.bar(i, dummy_clf_score)\n",
        "            \n",
        "dummy_base(strategies)"
      ],
      "execution_count": 35,
      "outputs": [
        {
          "output_type": "stream",
          "text": [
            "For stratified strategy f1 score is 0.891434262948207 with labels: [-1  1]\n",
            "[[  8 104]\n",
            " [108 905]]\n",
            "For most_frequent strategy f1 score is 0.9476145930776426 with labels: [1]\n",
            "[[   0  112]\n",
            " [   0 1013]]\n",
            "For uniform strategy f1 score is 0.6213093709884469 with labels: [-1  1]\n",
            "[[ 54  58]\n",
            " [552 461]]\n",
            "For prior strategy f1 score is 0.9476145930776426 with labels: [1]\n",
            "[[   0  112]\n",
            " [   0 1013]]\n"
          ],
          "name": "stdout"
        },
        {
          "output_type": "display_data",
          "data": {
            "image/png": "[encoded data removed]",
            "text/plain": [
              "<Figure size 432x288 with 1 Axes>"
            ]
          },
          "metadata": {
            "tags": [],
            "needs_background": "light"
          }
        }
      ]
    },
    {
      "cell_type": "code",
      "metadata": {
        "colab": {
          "base_uri": "https://localhost:8080/"
        },
        "id": "N3A019pdUkpD",
        "outputId": "bdb9bff0-5cfb-4971-c9e5-ae5a5b389355"
      },
      "source": [
        "def base_decisiontree_clf():\n",
        "    \"\"\"This function returns score of DecisionTreeClassifier\n",
        "    :return: print(dtc_clf.__class__.__name__, dtc_clf_score): score of the classifier\n",
        "    :return: get_confusion_matrix(dtc_clf): function returning a confusion matrix\n",
        "    \"\"\"\n",
        "    dtc_clf = DecisionTreeClassifier().fit(X, y)\n",
        "    dtc_clf.fit(X_train, y_train.values.ravel())\n",
        "    y_pred = dtc_clf.predict(X_test)\n",
        "    dtc_clf_score = f1_score(y_test, y_pred)\n",
        "    print(dtc_clf.__class__.__name__, dtc_clf_score)\n",
        "    get_confusion_matrix(dtc_clf)\n",
        "\n",
        "base_decisiontree_clf()"
      ],
      "execution_count": 36,
      "outputs": [
        {
          "output_type": "stream",
          "text": [
            "DecisionTreeClassifier 0.964057114721812\n",
            "[[ 73  39]\n",
            " [ 32 981]]\n"
          ],
          "name": "stdout"
        }
      ]
    },
    {
      "cell_type": "code",
      "metadata": {
        "colab": {
          "base_uri": "https://localhost:8080/",
          "height": 437
        },
        "id": "YxQ82RjFHvi_",
        "outputId": "db632b53-e8e0-4363-8c41-9fbe2c9e2c6b"
      },
      "source": [
        "log_clf = LogisticRegression(random_state=0, max_iter = 1000)\n",
        "knn_clf = KNeighborsClassifier()\n",
        "svm_clf = SVC()\n",
        "#voting_clf = VotingClassifier()\n",
        "\n",
        "clf_list = [log_clf, knn_clf, svm_clf]\n",
        "\n",
        "def clf_scores(list):\n",
        "  \"\"\"This function returns scores and plot with scores of the classifiers given in the list\n",
        "    :param list: list of classifiers\n",
        "    :return: print(clf.__class__.__name__, accuracy_score(y_test, y_pred)): scores of the classifiers given in the list\n",
        "    :return: plt.bar(clf.__class__.__name__, accuracy_score(y_test, y_pred)): plot with scores of the classifiers given in the list\n",
        "    :return: get_confusion_matrix(clf): function returning a confusion matrix\n",
        "    \"\"\"\n",
        "  for clf in list:\n",
        "    clf.fit(X_train, y_train.values.ravel())\n",
        "    y_pred = clf.predict(X_test)\n",
        "    clf_score = f1_score(y_test, y_pred)\n",
        "    print(clf.__class__.__name__, clf_score)\n",
        "    get_confusion_matrix(clf)\n",
        "\n",
        "\n",
        "    plt.title('Scores')\n",
        "    plt.bar(clf.__class__.__name__, clf_score);\n",
        "\n",
        "clf_scores(clf_list)\n"
      ],
      "execution_count": 16,
      "outputs": [
        {
          "output_type": "stream",
          "text": [
            "LogisticRegression 0.891662506240639\n",
            "[[ 15  97]\n",
            " [120 893]]\n",
            "KNeighborsClassifier 0.9803921568627452\n",
            "[[  85   27]\n",
            " [  13 1000]]\n",
            "SVC 0.9767211490837047\n",
            "[[ 92  20]\n",
            " [ 27 986]]\n"
          ],
          "name": "stdout"
        },
        {
          "output_type": "display_data",
          "data": {
            "image/png": "[encoded data removed]",
            "text/plain": [
              "<Figure size 432x288 with 1 Axes>"
            ]
          },
          "metadata": {
            "tags": [],
            "needs_background": "light"
          }
        }
      ]
    },
    {
      "cell_type": "markdown",
      "metadata": {
        "id": "qRRo2WMrctDL"
      },
      "source": [
        "### **AdaBoostClassifier**"
      ]
    },
    {
      "cell_type": "code",
      "metadata": {
        "colab": {
          "base_uri": "https://localhost:8080/"
        },
        "id": "NLjqK2jP1vFQ",
        "outputId": "5f866332-6dc0-410c-f79b-28a1f05df053"
      },
      "source": [
        "from sklearn.ensemble import AdaBoostClassifier\n",
        "\n",
        "ab_clf = AdaBoostClassifier()\n",
        "\n",
        "def get_parameters(clf):\n",
        "  print(clf.get_params().keys())\n",
        "\n",
        "get_parameters(ab_clf)"
      ],
      "execution_count": 17,
      "outputs": [
        {
          "output_type": "stream",
          "text": [
            "dict_keys(['algorithm', 'base_estimator', 'learning_rate', 'n_estimators', 'random_state'])\n"
          ],
          "name": "stdout"
        }
      ]
    },
    {
      "cell_type": "code",
      "metadata": {
        "colab": {
          "base_uri": "https://localhost:8080/"
        },
        "id": "F2UNAaJlh7Mu",
        "outputId": "cbadcbae-659b-411d-ebd1-30ae815f0038"
      },
      "source": [
        "def base_adaboost_clf():\n",
        "    \"\"\"This function returns score of AdaBoostClassifier\n",
        "    :return: print(ab_clf_clf.__class__.__name__, ab_clf_score): score of the classifier\n",
        "    :return: get_confusion_matrix(ab_clf): function returning a confusion matrix\n",
        "    \"\"\"\n",
        "    ab_clf = AdaBoostClassifier()\n",
        "    ab_clf.fit(X_train, y_train.values.ravel())\n",
        "    y_pred = ab_clf.predict(X_test)\n",
        "    ab_clf_score = f1_score(y_test, y_pred)\n",
        "    print(ab_clf.__class__.__name__, ab_clf_score)\n",
        "    get_confusion_matrix(ab_clf)\n",
        "\n",
        "base_adaboost_clf()"
      ],
      "execution_count": 18,
      "outputs": [
        {
          "output_type": "stream",
          "text": [
            "AdaBoostClassifier 0.9656188605108056\n",
            "[[ 72  40]\n",
            " [ 30 983]]\n"
          ],
          "name": "stdout"
        }
      ]
    },
    {
      "cell_type": "code",
      "metadata": {
        "colab": {
          "base_uri": "https://localhost:8080/"
        },
        "id": "2zxi3WU6swIe",
        "outputId": "79a28a7d-a681-46de-d8b6-972dbadf517f"
      },
      "source": [
        "def pipeline_ab_clf(x_1: np.array, x_2: np.array, y_1: np.array, y_2: np.array):\n",
        "    \"\"\"This function returns best model from given paramerters\n",
        "    :param: x_1: np.array: train data after splitting\n",
        "    :param: x_2: np.array: test data after splitting\n",
        "    :param: y_1: np.array: train of values after splitting\n",
        "    :param: y_2: np.array: test of values after splitting\n",
        "\n",
        "    :return: print(best_model.best_estimator_): returns best model out of given\n",
        "    :return: print(\"The score of the model is:\",f1_score(y_test, y_pred)): returns f1_score from choosen best model\n",
        "    :return: print(confusion_matrix(y_test, y_pred)): returns confusion_matrix\n",
        "    \"\"\"\n",
        "    classifier = AdaBoostClassifier()\n",
        "    param = [{'n_estimators': [50, 100, 150],\n",
        "            'learning_rate': [0.1, 0.01, 0.05]}]\n",
        "\n",
        "    grid_search = GridSearchCV(classifier,\n",
        "                              param,\n",
        "                              cv=3,\n",
        "                              verbose=2,\n",
        "                              n_jobs=-1,\n",
        "                              scoring='f1')\n",
        "\n",
        "    \n",
        "    best_model = grid_search.fit(x_2, y_2.values.ravel())\n",
        "    print(best_model.best_estimator_)\n",
        "    y_pred = best_model.predict(x_2)\n",
        "    print(\"The score of the model is:\",f1_score(y_2, y_pred))\n",
        "    print(confusion_matrix(y_2, y_pred))\n",
        "\n",
        "\n",
        "pipeline_ab_clf(X_train, X_test, y_train, y_test)\n"
      ],
      "execution_count": 19,
      "outputs": [
        {
          "output_type": "stream",
          "text": [
            "Fitting 3 folds for each of 9 candidates, totalling 27 fits\n"
          ],
          "name": "stdout"
        },
        {
          "output_type": "stream",
          "text": [
            "[Parallel(n_jobs=-1)]: Using backend LokyBackend with 2 concurrent workers.\n",
            "[Parallel(n_jobs=-1)]: Done  27 out of  27 | elapsed: 28.9min finished\n"
          ],
          "name": "stderr"
        },
        {
          "output_type": "stream",
          "text": [
            "AdaBoostClassifier(algorithm='SAMME.R', base_estimator=None, learning_rate=0.05,\n",
            "                   n_estimators=50, random_state=None)\n",
            "The score of the model is: 0.9793510324483775\n",
            "[[ 87  25]\n",
            " [ 17 996]]\n"
          ],
          "name": "stdout"
        }
      ]
    },
    {
      "cell_type": "markdown",
      "metadata": {
        "id": "3L4v4jz0MJKf"
      },
      "source": [
        "### **Final model**"
      ]
    },
    {
      "cell_type": "code",
      "metadata": {
        "id": "bpUjvv3qwXiK"
      },
      "source": [
        "def results_to_csv(df):\n",
        "  df.to_csv('model_results.csv')"
      ],
      "execution_count": 38,
      "outputs": []
    },
    {
      "cell_type": "code",
      "metadata": {
        "id": "5yQuYkUiNyzx",
        "colab": {
          "base_uri": "https://localhost:8080/"
        },
        "outputId": "9a5dde01-1708-4367-8115-23776825da7c"
      },
      "source": [
        "#creating final pipeline\n",
        "\n",
        "def pipeline_final_model():\n",
        "    \"\"\"\n",
        "    :return: print(best_model.best_estimator_): returns best model out of given\n",
        "    :return: y_pred: array with predicted labels\n",
        "    \"\"\"\n",
        "    pipe = Pipeline([('pca', PCA(n_components = 0.99)), ('scaler', StandardScaler()), ('classifier', SVC())])\n",
        "\n",
        "    search_space = [{'scaler': [StandardScaler()],\n",
        "                    'pca': [PCA(n_components = 0.99)]},\n",
        "                    {'classifier': [SVC()],\n",
        "                    'classifier__kernel': ['linear', 'poly'],\n",
        "                    'classifier__class_weight': ['balanced'],\n",
        "                    'classifier__C': np.logspace(1,4,5)},\n",
        "                    {'classifier': [KNeighborsClassifier()],\n",
        "                    'classifier__n_neighbors': [2, 4, 6, 8, 10],\n",
        "                    'classifier__algorithm': ['auto']},\n",
        "                    {'classifier': [AdaBoostClassifier()],\n",
        "                    'classifier__n_estimators': [50],\n",
        "                    'classifier__learning_rate': [0.1]}]\n",
        "\n",
        "    grid_search = GridSearchCV(pipe,\n",
        "                              search_space,\n",
        "                              cv=3,\n",
        "                              verbose=2,\n",
        "                              n_jobs=-1,\n",
        "                              scoring='f1')\n",
        "    \n",
        "    best_model = grid_search.fit(X_train, y_train.values.ravel())\n",
        "    print(best_model.best_estimator_)\n",
        "    y_pred = best_model.predict(test_data)\n",
        "    return y_pred\n",
        "    results_to_csv(y_pred)\n",
        "\n",
        "\n",
        "pipeline_final_model()"
      ],
      "execution_count": 40,
      "outputs": [
        {
          "output_type": "stream",
          "text": [
            "Fitting 3 folds for each of 17 candidates, totalling 51 fits\n"
          ],
          "name": "stdout"
        },
        {
          "output_type": "stream",
          "text": [
            "[Parallel(n_jobs=-1)]: Using backend LokyBackend with 2 concurrent workers.\n",
            "[Parallel(n_jobs=-1)]: Done  37 tasks      | elapsed:  8.1min\n",
            "[Parallel(n_jobs=-1)]: Done  51 out of  51 | elapsed: 11.1min finished\n"
          ],
          "name": "stderr"
        },
        {
          "output_type": "stream",
          "text": [
            "Pipeline(memory=None,\n",
            "         steps=[('pca',\n",
            "                 PCA(copy=True, iterated_power='auto', n_components=0.99,\n",
            "                     random_state=None, svd_solver='auto', tol=0.0,\n",
            "                     whiten=False)),\n",
            "                ('scaler',\n",
            "                 StandardScaler(copy=True, with_mean=True, with_std=True)),\n",
            "                ('classifier',\n",
            "                 AdaBoostClassifier(algorithm='SAMME.R', base_estimator=None,\n",
            "                                    learning_rate=0.1, n_estimators=50,\n",
            "                                    random_state=None))],\n",
            "         verbose=False)\n"
          ],
          "name": "stdout"
        },
        {
          "output_type": "execute_result",
          "data": {
            "text/plain": [
              "array([-1,  1,  1, ...,  1,  1, -1], dtype=int8)"
            ]
          },
          "metadata": {
            "tags": []
          },
          "execution_count": 40
        }
      ]
    },
    {
      "cell_type": "code",
      "metadata": {
        "id": "zIoQLNg8ditE"
      },
      "source": [
        ""
      ],
      "execution_count": null,
      "outputs": []
    },
    {
      "cell_type": "code",
      "metadata": {
        "id": "EhaWndIpBS4X"
      },
      "source": [
        "#sns.swarmplot(data=X_train, y='clf', x='score')"
      ],
      "execution_count": null,
      "outputs": []
    },
    {
      "cell_type": "code",
      "metadata": {
        "id": "QunDaTsOyP2E"
      },
      "source": [
        "https://blog.prokulski.science/2020/12/23/hyperopt-scikit-learn/"
      ],
      "execution_count": null,
      "outputs": []
    },
    {
      "cell_type": "markdown",
      "metadata": {
        "id": "svmUzS0X5gRh"
      },
      "source": [
        "Pewnie nie muszę przypominać, że podczas poszukiwania parametrów, oceny klasyfikatora powinniśmy dokonywać na danych, które nie były wykorzystywane do treningu. W przeciwnym wypadku padamy ofiarą przeuczenia (ang. overfittingu), czyli dostosowania się algorytmu do naszego zbioru. Obliczony model będzie działał rewelacyjnie na danych treningowych, ale już na rzeczywistych będziemy osiągali słabe wyniki. Najłatwiej można poradzić sobie na dwa sposoby:\n",
        "\n",
        "    Podzielić zbiór treningowy na dwie części, służącą do treningu (train dataset) oraz walidacyjną (validation dataset). Poszukiwanie parametrów uruchamiać na części treningowej a ocenę przeprowadzić na części walidacyjnej."
      ]
    }
  ]
}