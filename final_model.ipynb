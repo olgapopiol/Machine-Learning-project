{
  "nbformat": 4,
  "nbformat_minor": 0,
  "metadata": {
    "kernelspec": {
      "display_name": "Python 3",
      "language": "python",
      "name": "python3"
    },
    "language_info": {
      "codemirror_mode": {
        "name": "ipython",
        "version": 3
      },
      "file_extension": ".py",
      "mimetype": "text/x-python",
      "name": "python",
      "nbconvert_exporter": "python",
      "pygments_lexer": "ipython3",
      "version": "3.7.3"
    },
    "colab": {
      "name": "model.ipynb",
      "provenance": [],
      "include_colab_link": true
    }
  },
  "cells": [
    {
      "cell_type": "markdown",
      "metadata": {
        "id": "view-in-github",
        "colab_type": "text"
      },
      "source": [
        "<a href=\"https://colab.research.google.com/github/opopiol/ML_project/blob/model/final_model.ipynb\" target=\"_parent\"><img src=\"https://colab.research.google.com/assets/colab-badge.svg\" alt=\"Open In Colab\"/></a>"
      ]
    },
    {
      "cell_type": "code",
      "metadata": {
        "id": "hGsZZAHJNyzU"
      },
      "source": [
        "import pandas as pd\n",
        "import numpy as np\n",
        "import seaborn as sns\n",
        "import matplotlib.pyplot as plt\n",
        "from sklearn.model_selection import train_test_split\n",
        "from sklearn.metrics import accuracy_score, confusion_matrix, f1_score\n",
        "\n",
        "from sklearn.dummy import DummyClassifier\n",
        "from sklearn.linear_model import LogisticRegression\n",
        "from sklearn.neighbors import KNeighborsClassifier\n",
        "from sklearn.neighbors import KNeighborsClassifier\n",
        "from sklearn.tree import DecisionTreeClassifier\n",
        "from sklearn.ensemble import RandomForestClassifier, AdaBoostClassifier, VotingClassifier\n",
        "from sklearn.cluster import KMeans\n",
        "\n",
        "from sklearn.preprocessing import StandardScaler, MinMaxScaler\n",
        "from sklearn.decomposition import PCA\n",
        "from sklearn.manifold import TSNE\n",
        "from sklearn.pipeline import Pipeline\n",
        "from sklearn.model_selection import GridSearchCV\n",
        "from sklearn.svm import SVC\n",
        "from sklearn import svm\n",
        "from imblearn.over_sampling import SMOTE"
      ],
      "execution_count": 32,
      "outputs": []
    },
    {
      "cell_type": "markdown",
      "metadata": {
        "id": "gwqkqdg9AvUV"
      },
      "source": [
        "### **Neptune**"
      ]
    },
    {
      "cell_type": "code",
      "metadata": {
        "colab": {
          "base_uri": "https://localhost:8080/"
        },
        "id": "1RaaZkwf1zhQ",
        "outputId": "1e467e6a-1b04-49bc-ddec-b6119a321be0"
      },
      "source": [
        "%pip install --upgrade --quiet neptune-client\n",
        "#pip install neptune-notebooks"
      ],
      "execution_count": 3,
      "outputs": [
        {
          "output_type": "stream",
          "text": [
            "\u001b[K     |████████████████████████████████| 245kB 5.2MB/s \n",
            "\u001b[K     |████████████████████████████████| 829kB 10.1MB/s \n",
            "\u001b[K     |████████████████████████████████| 71kB 7.1MB/s \n",
            "\u001b[K     |████████████████████████████████| 174kB 18.8MB/s \n",
            "\u001b[K     |████████████████████████████████| 71kB 6.6MB/s \n",
            "\u001b[K     |████████████████████████████████| 133kB 18.2MB/s \n",
            "\u001b[K     |████████████████████████████████| 71kB 6.7MB/s \n",
            "\u001b[?25h  Building wheel for neptune-client (setup.py) ... \u001b[?25l\u001b[?25hdone\n",
            "  Building wheel for future (setup.py) ... \u001b[?25l\u001b[?25hdone\n",
            "  Building wheel for strict-rfc3339 (setup.py) ... \u001b[?25l\u001b[?25hdone\n"
          ],
          "name": "stdout"
        }
      ]
    },
    {
      "cell_type": "code",
      "metadata": {
        "colab": {
          "base_uri": "https://localhost:8080/"
        },
        "id": "cDrBmeUh15rw",
        "outputId": "8deb91e3-be0b-4974-c007-44bbab3b471b"
      },
      "source": [
        "import neptune.new as neptune\n",
        "#run = neptune.init(project='opopiol/ML-project')\n",
        "run = neptune.init(project='opopiol/ML-project',\n",
        "                   api_token='eyJhcGlfYWRkcmVzcyI6Imh0dHBzOi8vYXBwLm5lcHR1bmUuYWkiLCJhcGlfdXJsIjoiaHR0cHM6Ly9hcHAubmVwdHVuZS5haSIsImFwaV9rZXkiOiI5YjIyYjU2ZS0wMTc5LTQ3NWUtOWZkZC05OTg2YzI1M2VkNDUifQ==') # your credentials\n",
        "\n",
        "run[\"JIRA\"] = \"NPT-952\"\n",
        "run[\"parameters\"] = {\"learning_rate\": 0.001,\n",
        "                     \"optimizer\": \"Adam\"}\n",
        "\n",
        "for epoch in range(100):\n",
        "   run[\"train/loss\"].log(epoch * 0.4)\n",
        "run[\"eval/f1_score\"] = 0.66"
      ],
      "execution_count": 4,
      "outputs": [
        {
          "output_type": "stream",
          "text": [
            "Info (NVML): Driver Not Loaded. GPU usage metrics may not be reported. For more information, see https://docs-legacy.neptune.ai/logging-and-managing-experiment-results/logging-experiment-data.html#hardware-consumption \n"
          ],
          "name": "stderr"
        },
        {
          "output_type": "stream",
          "text": [
            "https://app.neptune.ai/opopiol/ML-project/e/MLPROJ-9\n",
            "Remember to stop your run once you’ve finished logging your metadata (https://docs.neptune.ai/api-reference/run#stop). It will be stopped automatically only when the notebook kernel/interactive console is terminated.\n"
          ],
          "name": "stdout"
        }
      ]
    },
    {
      "cell_type": "markdown",
      "metadata": {
        "id": "jWOcXqaZATei"
      },
      "source": [
        "###**Reducing DataFrame memory size**\n"
      ]
    },
    {
      "cell_type": "code",
      "metadata": {
        "id": "UOXqGY4rx6-8"
      },
      "source": [
        "#Reducing DataFrame memory size\n",
        "#https://www.kaggle.com/arjanso/reducing-dataframe-memory-size-by-65?fbclid=IwAR3XPzjakD69RqAEKuAnTDUtfw3AeCAj19eyd6LfzVSwHHICNgxW-ptK-vs\n",
        "\n",
        "def reduce_mem_usage(props):\n",
        "    start_mem_usg = props.memory_usage().sum() / 1024**2 \n",
        "    print(\"Memory usage of properties dataframe is :\",start_mem_usg,\" MB\")\n",
        "    NAlist = [] # Keeps track of columns that have missing values filled in. \n",
        "    for col in props.columns:\n",
        "        if props[col].dtype != object:  # Exclude strings\n",
        "            \n",
        "            # Print current column type\n",
        "            #print(\"******************************\")\n",
        "            #print(\"Column: \",col)\n",
        "            #print(\"dtype before: \",props[col].dtype)\n",
        "            \n",
        "            # make variables for Int, max and min\n",
        "            IsInt = False\n",
        "            mx = props[col].max()\n",
        "            mn = props[col].min()\n",
        "            \n",
        "            # Integer does not support NA, therefore, NA needs to be filled\n",
        "            if not np.isfinite(props[col]).all(): \n",
        "                NAlist.append(col)\n",
        "                props[col].fillna(mn-1,inplace=True)  \n",
        "                   \n",
        "            # test if column can be converted to an integer\n",
        "            asint = props[col].fillna(0).astype(np.int64)\n",
        "            result = (props[col] - asint)\n",
        "            result = result.sum()\n",
        "            if result > -0.01 and result < 0.01:\n",
        "                IsInt = True\n",
        "\n",
        "            \n",
        "            # Make Integer/unsigned Integer datatypes\n",
        "            if IsInt:\n",
        "                if mn >= 0:\n",
        "                    if mx < 255:\n",
        "                        props[col] = props[col].astype(np.uint8)\n",
        "                    elif mx < 65535:\n",
        "                        props[col] = props[col].astype(np.uint16)\n",
        "                    elif mx < 4294967295:\n",
        "                        props[col] = props[col].astype(np.uint32)\n",
        "                    else:\n",
        "                        props[col] = props[col].astype(np.uint64)\n",
        "                else:\n",
        "                    if mn > np.iinfo(np.int8).min and mx < np.iinfo(np.int8).max:\n",
        "                        props[col] = props[col].astype(np.int8)\n",
        "                    elif mn > np.iinfo(np.int16).min and mx < np.iinfo(np.int16).max:\n",
        "                        props[col] = props[col].astype(np.int16)\n",
        "                    elif mn > np.iinfo(np.int32).min and mx < np.iinfo(np.int32).max:\n",
        "                        props[col] = props[col].astype(np.int32)\n",
        "                    elif mn > np.iinfo(np.int64).min and mx < np.iinfo(np.int64).max:\n",
        "                        props[col] = props[col].astype(np.int64)    \n",
        "            \n",
        "            # Make float datatypes 32 bit\n",
        "            else:\n",
        "                props[col] = props[col].astype(np.float32)\n",
        "            \n",
        "            # Print new column type\n",
        "            #print(\"dtype after: \",props[col].dtype)\n",
        "            #print(\"******************************\")\n",
        "    \n",
        "    # Print final result\n",
        "    print(\"___MEMORY USAGE AFTER COMPLETION:___\")\n",
        "    mem_usg = props.memory_usage().sum() / 1024**2 \n",
        "    print(\"Memory usage is: \",mem_usg,\" MB\")\n",
        "    print(\"This is \",100*mem_usg/start_mem_usg,\"% of the initial size\")\n",
        "    return props"
      ],
      "execution_count": 5,
      "outputs": []
    },
    {
      "cell_type": "markdown",
      "metadata": {
        "id": "xhDgfjBvA7Kx"
      },
      "source": [
        "### **Data import**"
      ]
    },
    {
      "cell_type": "code",
      "metadata": {
        "colab": {
          "base_uri": "https://localhost:8080/"
        },
        "id": "9CZgtAywKyPj",
        "outputId": "3db96d13-cca3-467b-d065-77b75cd650cb"
      },
      "source": [
        "from google.colab import drive\n",
        "drive.mount('/content/drive')"
      ],
      "execution_count": 6,
      "outputs": [
        {
          "output_type": "stream",
          "text": [
            "Mounted at /content/drive\n"
          ],
          "name": "stdout"
        }
      ]
    },
    {
      "cell_type": "code",
      "metadata": {
        "id": "C2W9TKZeVGkV"
      },
      "source": [
        "#import train dataset\n",
        "train_path = '/content/drive/MyDrive/project/train_data.csv'\n",
        "train_data = pd.read_csv(train_path, header=None)"
      ],
      "execution_count": 7,
      "outputs": []
    },
    {
      "cell_type": "code",
      "metadata": {
        "colab": {
          "base_uri": "https://localhost:8080/"
        },
        "id": "rPbtmxPSyb3a",
        "outputId": "a3bc78e1-7157-46f0-d4da-0f778054c191"
      },
      "source": [
        "train_data= reduce_mem_usage(train_data)"
      ],
      "execution_count": 8,
      "outputs": [
        {
          "output_type": "stream",
          "text": [
            "Memory usage of properties dataframe is : 286.1024169921875  MB\n",
            "___MEMORY USAGE AFTER COMPLETION:___\n",
            "Memory usage is:  143.05126953125  MB\n",
            "This is  50.000021333324234 % of the initial size\n"
          ],
          "name": "stdout"
        }
      ]
    },
    {
      "cell_type": "code",
      "metadata": {
        "id": "03EzdvWnNyzl"
      },
      "source": [
        "#import labels\n",
        "labels_path = '/content/drive/MyDrive/project/train_labels.csv'\n",
        "labels = pd.read_csv(labels_path, header=None,  names=['y'])"
      ],
      "execution_count": 9,
      "outputs": []
    },
    {
      "cell_type": "code",
      "metadata": {
        "colab": {
          "base_uri": "https://localhost:8080/"
        },
        "id": "YHbYwjB0y5BI",
        "outputId": "6784e0d4-6344-4848-ad09-f7af3f32fbad"
      },
      "source": [
        "labels= reduce_mem_usage(labels)"
      ],
      "execution_count": 10,
      "outputs": [
        {
          "output_type": "stream",
          "text": [
            "Memory usage of properties dataframe is : 0.0287322998046875  MB\n",
            "___MEMORY USAGE AFTER COMPLETION:___\n",
            "Memory usage is:  0.0036983489990234375  MB\n",
            "This is  12.871747211895912 % of the initial size\n"
          ],
          "name": "stdout"
        }
      ]
    },
    {
      "cell_type": "code",
      "metadata": {
        "id": "J_Ue2_rUVzvv"
      },
      "source": [
        "#import test dataset\n",
        "test_path = '/content/drive/MyDrive/project/test_data.csv'\n",
        "test_data = pd.read_csv(test_path, header=None)"
      ],
      "execution_count": 11,
      "outputs": []
    },
    {
      "cell_type": "code",
      "metadata": {
        "colab": {
          "base_uri": "https://localhost:8080/"
        },
        "id": "_spfhyV5y6v6",
        "outputId": "db72fbee-3c98-427a-8600-d4fd4e1c54a9"
      },
      "source": [
        "test_data= reduce_mem_usage(test_data)"
      ],
      "execution_count": 12,
      "outputs": [
        {
          "output_type": "stream",
          "text": [
            "Memory usage of properties dataframe is : 95.3675537109375  MB\n",
            "___MEMORY USAGE AFTER COMPLETION:___\n",
            "Memory usage is:  47.67668533325195  MB\n",
            "This is  49.99256400951807 % of the initial size\n"
          ],
          "name": "stdout"
        }
      ]
    },
    {
      "cell_type": "code",
      "metadata": {
        "id": "YaADpHBANyzn"
      },
      "source": [
        "X, y = train_data, labels\n",
        "X_train, X_test, y_train, y_test = train_test_split(X, y, test_size=0.3, stratify = y)"
      ],
      "execution_count": 31,
      "outputs": []
    },
    {
      "cell_type": "markdown",
      "metadata": {
        "id": "tWIEm5-dSDfB"
      },
      "source": [
        "### **MODEL**"
      ]
    },
    {
      "cell_type": "code",
      "metadata": {
        "id": "MhzpuZfmNgwq"
      },
      "source": [
        "def get_confusion_matrix(classifier):\n",
        "    \"\"\"This function returns a confusion matrix of given classifier\n",
        "    :param classifier: classifier\n",
        "    :return: print(confusion_matrix(y_test, y_pred)): confusion matrix of given classifier\n",
        "    \"\"\"\n",
        "    m = classifier.fit(X, y)\n",
        "    m.fit(X_train, y_train)\n",
        "    y_pred = m.predict(X_test)\n",
        "    print(confusion_matrix(y_test, y_pred))"
      ],
      "execution_count": 85,
      "outputs": []
    },
    {
      "cell_type": "markdown",
      "metadata": {
        "id": "pcbAj3GlBF8H"
      },
      "source": [
        "### **Baseline**"
      ]
    },
    {
      "cell_type": "code",
      "metadata": {
        "colab": {
          "base_uri": "https://localhost:8080/",
          "height": 490
        },
        "id": "aXKzQAxdNyzo",
        "outputId": "3bbc9981-4139-4881-a914-f57484271a43"
      },
      "source": [
        "#baseline\n",
        "strategies = ['stratified', 'most_frequent', 'prior', 'uniform']\n",
        "\n",
        "def dummy_base(list):\n",
        "  \"\"\"This function returns scores and plot with scores of the given strategies of DummyClassifier\n",
        "    :param list: list of strategies\n",
        "    :return: print(f'For {i} strategy score is {dummy_clf_score} with labels: {dummy_labels}'): scores of the strategies given in the list and labels\n",
        "    :return: plt.bar(i, dummy_clf_score): plot with scores of the strategies given in the list\n",
        "    :return: get_confusion_matrix(dummy_clf): function returning a confusion matrix\n",
        "    \"\"\"\n",
        "  for i in list:\n",
        "      dummy_clf = DummyClassifier(strategy=i)\n",
        "      dummy_clf.fit(X_train, y_train)\n",
        "      y_pred = dummy_clf.predict(X_test)\n",
        "      dummy_clf_score = f1_score(y_test, y_pred)\n",
        "      dummy_labels = np.unique(dummy_clf.predict(X_test))\n",
        "      print(f'For {i} strategy f1 score is {dummy_clf_score} with labels: {dummy_labels}')\n",
        "      get_confusion_matrix(dummy_clf)\n",
        "      \n",
        "      plt.title('Strategies of DummyClassifier')\n",
        "      plt.bar(i, dummy_clf_score)\n",
        "            \n",
        "dummy_base(strategies)\n",
        "\n"
      ],
      "execution_count": 90,
      "outputs": [
        {
          "output_type": "stream",
          "text": [
            "For stratified strategy f1 score is 0.9054187192118227 with labels: [-1  1]\n",
            "[[  9 103]\n",
            " [ 92 921]]\n",
            "For most_frequent strategy f1 score is 0.9476145930776426 with labels: [1]\n",
            "[[   0  112]\n",
            " [   0 1013]]\n",
            "For prior strategy f1 score is 0.9476145930776426 with labels: [1]\n",
            "[[   0  112]\n",
            " [   0 1013]]\n",
            "For uniform strategy f1 score is 0.6213093709884469 with labels: [-1  1]\n",
            "[[ 60  52]\n",
            " [527 486]]\n"
          ],
          "name": "stdout"
        },
        {
          "output_type": "display_data",
          "data": {
            "image/png": "[encoded data removed]",
            "text/plain": [
              "<Figure size 432x288 with 1 Axes>"
            ]
          },
          "metadata": {
            "tags": [],
            "needs_background": "light"
          }
        }
      ]
    },
    {
      "cell_type": "code",
      "metadata": {
        "colab": {
          "base_uri": "https://localhost:8080/"
        },
        "id": "N3A019pdUkpD",
        "outputId": "c85c01e9-4b4a-48ca-9d2c-0c08b86f3b43"
      },
      "source": [
        "def base_decisiontree_clf():\n",
        "    \"\"\"This function returns score of DecisionTreeClassifier\n",
        "    :return: print(dtc_clf.__class__.__name__, dtc_clf_score): score of the classifier\n",
        "    :return: get_confusion_matrix(dtc_clf): function returning a confusion matrix\n",
        "    \"\"\"\n",
        "    dtc_clf = DecisionTreeClassifier().fit(X, y)\n",
        "    dtc_clf.fit(X_train, y_train)\n",
        "    y_pred = dtc_clf.predict(X_test)\n",
        "    dtc_clf_score = f1_score(y_test, y_pred)\n",
        "    print(dtc_clf.__class__.__name__, dtc_clf_score)\n",
        "    get_confusion_matrix(dtc_clf)\n",
        "\n",
        "base_decisiontree_clf()"
      ],
      "execution_count": 89,
      "outputs": [
        {
          "output_type": "stream",
          "text": [
            "DecisionTreeClassifier 0.9629995066600889\n",
            "[[ 74  38]\n",
            " [ 37 976]]\n",
            "[[ 72  40]\n",
            " [ 27 986]]\n"
          ],
          "name": "stdout"
        }
      ]
    },
    {
      "cell_type": "code",
      "metadata": {
        "colab": {
          "base_uri": "https://localhost:8080/",
          "height": 770
        },
        "id": "YxQ82RjFHvi_",
        "outputId": "c66385ed-481f-4208-c256-b3cd96dd6dea"
      },
      "source": [
        "log_clf = LogisticRegression(random_state=0, max_iter = 1000)\n",
        "knn_clf = KNeighborsClassifier()\n",
        "svm_clf = SVC()\n",
        "#voting_clf = VotingClassifier()\n",
        "\n",
        "clf_list = [log_clf, knn_clf, svm_clf]\n",
        "\n",
        "def clf_scores(list):\n",
        "  \"\"\"This function returns scores and plot with scores of the classifiers given in the list\n",
        "    :param list: list of classifiers\n",
        "    :return: print(clf.__class__.__name__, accuracy_score(y_test, y_pred)): scores of the classifiers given in the list\n",
        "    :return: plt.bar(clf.__class__.__name__, accuracy_score(y_test, y_pred)): plot with scores of the classifiers given in the list\n",
        "    :return: get_confusion_matrix(clf): function returning a confusion matrix\n",
        "    \"\"\"\n",
        "  for clf in list:\n",
        "    clf.fit(X_train, y_train)\n",
        "    y_pred = clf.predict(X_test)\n",
        "    clf_score = f1_score(y_test, y_pred)\n",
        "    print(clf.__class__.__name__, clf_score)\n",
        "    get_confusion_matrix(clf)\n",
        "\n",
        "\n",
        "    plt.title('Scores')\n",
        "    plt.bar(clf.__class__.__name__, clf_score);\n",
        "\n",
        "clf_scores(clf_list)\n"
      ],
      "execution_count": 57,
      "outputs": [
        {
          "output_type": "stream",
          "text": [
            "/usr/local/lib/python3.7/dist-packages/sklearn/utils/validation.py:760: DataConversionWarning: A column-vector y was passed when a 1d array was expected. Please change the shape of y to (n_samples, ), for example using ravel().\n",
            "  y = column_or_1d(y, warn=True)\n"
          ],
          "name": "stderr"
        },
        {
          "output_type": "stream",
          "text": [
            "LogisticRegression 0.8907815631262526\n"
          ],
          "name": "stdout"
        },
        {
          "output_type": "stream",
          "text": [
            "/usr/local/lib/python3.7/dist-packages/sklearn/utils/validation.py:760: DataConversionWarning: A column-vector y was passed when a 1d array was expected. Please change the shape of y to (n_samples, ), for example using ravel().\n",
            "  y = column_or_1d(y, warn=True)\n",
            "/usr/local/lib/python3.7/dist-packages/sklearn/utils/validation.py:760: DataConversionWarning: A column-vector y was passed when a 1d array was expected. Please change the shape of y to (n_samples, ), for example using ravel().\n",
            "  y = column_or_1d(y, warn=True)\n"
          ],
          "name": "stderr"
        },
        {
          "output_type": "stream",
          "text": [
            "[[ 18  94]\n",
            " [124 889]]\n"
          ],
          "name": "stdout"
        },
        {
          "output_type": "stream",
          "text": [
            "/usr/local/lib/python3.7/dist-packages/ipykernel_launcher.py:15: DataConversionWarning: A column-vector y was passed when a 1d array was expected. Please change the shape of y to (n_samples, ), for example using ravel().\n",
            "  from ipykernel import kernelapp as app\n"
          ],
          "name": "stderr"
        },
        {
          "output_type": "stream",
          "text": [
            "KNeighborsClassifier 0.976926853215513\n"
          ],
          "name": "stdout"
        },
        {
          "output_type": "stream",
          "text": [
            "/usr/local/lib/python3.7/dist-packages/ipykernel_launcher.py:6: DataConversionWarning: A column-vector y was passed when a 1d array was expected. Please change the shape of y to (n_samples, ), for example using ravel().\n",
            "  \n",
            "/usr/local/lib/python3.7/dist-packages/ipykernel_launcher.py:7: DataConversionWarning: A column-vector y was passed when a 1d array was expected. Please change the shape of y to (n_samples, ), for example using ravel().\n",
            "  import sys\n"
          ],
          "name": "stderr"
        },
        {
          "output_type": "stream",
          "text": [
            "[[ 83  29]\n",
            " [ 18 995]]\n"
          ],
          "name": "stdout"
        },
        {
          "output_type": "stream",
          "text": [
            "/usr/local/lib/python3.7/dist-packages/sklearn/utils/validation.py:760: DataConversionWarning: A column-vector y was passed when a 1d array was expected. Please change the shape of y to (n_samples, ), for example using ravel().\n",
            "  y = column_or_1d(y, warn=True)\n"
          ],
          "name": "stderr"
        },
        {
          "output_type": "stream",
          "text": [
            "SVC 0.9782393669634025\n"
          ],
          "name": "stdout"
        },
        {
          "output_type": "stream",
          "text": [
            "/usr/local/lib/python3.7/dist-packages/sklearn/utils/validation.py:760: DataConversionWarning: A column-vector y was passed when a 1d array was expected. Please change the shape of y to (n_samples, ), for example using ravel().\n",
            "  y = column_or_1d(y, warn=True)\n",
            "/usr/local/lib/python3.7/dist-packages/sklearn/utils/validation.py:760: DataConversionWarning: A column-vector y was passed when a 1d array was expected. Please change the shape of y to (n_samples, ), for example using ravel().\n",
            "  y = column_or_1d(y, warn=True)\n"
          ],
          "name": "stderr"
        },
        {
          "output_type": "stream",
          "text": [
            "[[ 92  20]\n",
            " [ 24 989]]\n"
          ],
          "name": "stdout"
        },
        {
          "output_type": "display_data",
          "data": {
            "image/png": "[encoded data removed]",
            "text/plain": [
              "<Figure size 432x288 with 1 Axes>"
            ]
          },
          "metadata": {
            "tags": [],
            "needs_background": "light"
          }
        }
      ]
    },
    {
      "cell_type": "markdown",
      "metadata": {
        "id": "qRRo2WMrctDL"
      },
      "source": [
        "### **AdaBoostClassifier**"
      ]
    },
    {
      "cell_type": "code",
      "metadata": {
        "colab": {
          "base_uri": "https://localhost:8080/"
        },
        "id": "NLjqK2jP1vFQ",
        "outputId": "46174af5-6fdd-466c-b43e-9ad9ace7e05e"
      },
      "source": [
        "from sklearn.ensemble import AdaBoostClassifier\n",
        "\n",
        "estimator = AdaBoostClassifier()\n",
        "\n",
        "def get_parameters(clf):\n",
        "  print(clf.get_params().keys())\n",
        "\n",
        "get_parameters(estimator)"
      ],
      "execution_count": 103,
      "outputs": [
        {
          "output_type": "stream",
          "text": [
            "dict_keys(['algorithm', 'base_estimator', 'learning_rate', 'n_estimators', 'random_state'])\n"
          ],
          "name": "stdout"
        }
      ]
    },
    {
      "cell_type": "code",
      "metadata": {
        "colab": {
          "base_uri": "https://localhost:8080/"
        },
        "id": "F2UNAaJlh7Mu",
        "outputId": "f4588559-cdad-48d8-f6e7-1708cb51c739"
      },
      "source": [
        "def base_adaboost_clf():\n",
        "    \"\"\"This function returns score of AdaBoostClassifier\n",
        "    :return: print(ab_clf_clf.__class__.__name__, ab_clf_score): score of the classifier\n",
        "    :return: get_confusion_matrix(ab_clf): function returning a confusion matrix\n",
        "    \"\"\"\n",
        "    ab_clf = AdaBoostClassifier()\n",
        "    ab_clf.fit(X_train, y_train.values)\n",
        "    y_pred = ab_clf.predict(X_test)\n",
        "    ab_clf_score = f1_score(y_test, y_pred)\n",
        "    print(ab_clf.__class__.__name__, ab_clf_score)\n",
        "    get_confusion_matrix(ab_clf)\n",
        "\n",
        "base_adaboost_clf()"
      ],
      "execution_count": 104,
      "outputs": [
        {
          "output_type": "stream",
          "text": [
            "/usr/local/lib/python3.7/dist-packages/sklearn/utils/validation.py:760: DataConversionWarning: A column-vector y was passed when a 1d array was expected. Please change the shape of y to (n_samples, ), for example using ravel().\n",
            "  y = column_or_1d(y, warn=True)\n"
          ],
          "name": "stderr"
        },
        {
          "output_type": "stream",
          "text": [
            "AdaBoostClassifier 0.9654164637116415\n"
          ],
          "name": "stdout"
        },
        {
          "output_type": "stream",
          "text": [
            "/usr/local/lib/python3.7/dist-packages/sklearn/utils/validation.py:760: DataConversionWarning: A column-vector y was passed when a 1d array was expected. Please change the shape of y to (n_samples, ), for example using ravel().\n",
            "  y = column_or_1d(y, warn=True)\n",
            "/usr/local/lib/python3.7/dist-packages/sklearn/utils/validation.py:760: DataConversionWarning: A column-vector y was passed when a 1d array was expected. Please change the shape of y to (n_samples, ), for example using ravel().\n",
            "  y = column_or_1d(y, warn=True)\n"
          ],
          "name": "stderr"
        },
        {
          "output_type": "stream",
          "text": [
            "[[ 63  49]\n",
            " [ 22 991]]\n"
          ],
          "name": "stdout"
        }
      ]
    },
    {
      "cell_type": "code",
      "metadata": {
        "colab": {
          "base_uri": "https://localhost:8080/"
        },
        "id": "2zxi3WU6swIe",
        "outputId": "b69b4899-bead-4cc7-b67d-11141fcd10df"
      },
      "source": [
        "def pipeline_ab_clf(x_1: np.array, x_2: np.array, y_1: np.array, y_2: np.array):\n",
        "    \"\"\"This function returns best model from given paramerters\n",
        "    :param: x_1: np.array: train data after splitting\n",
        "    :param: x_2: np.array: test data after splitting\n",
        "    :param: y_1: np.array: train of values after splitting\n",
        "    :param: y_2: np.array: test of values after splitting\n",
        "\n",
        "    :return: print(best_model.best_estimator_): returns best model out of given\n",
        "    :return: print(\"The score of the model is:\",f1_score(y_test, y_pred)): returns f1_score from choosen best model\n",
        "    :return: print(confusion_matrix(y_test, y_pred)): returns confusion_matrix\n",
        "    \"\"\"\n",
        "    classifier = AdaBoostClassifier()\n",
        "    param = [{'n_estimators': [50, 100, 150],\n",
        "            'learning_rate': [0.1, 0.01, 0.05]}]\n",
        "\n",
        "    grid_search = GridSearchCV(classifier,\n",
        "                              param,\n",
        "                              cv=3,\n",
        "                              verbose=2,\n",
        "                              n_jobs=-1,\n",
        "                              scoring='f1')\n",
        "\n",
        "    \n",
        "    best_model = grid_search.fit(x_2, y_2.values)\n",
        "    print(best_model.best_estimator_)\n",
        "    y_pred = best_model.predict(x_2)\n",
        "    print(\"The score of the model is:\",f1_score(y_2, y_pred))\n",
        "    print(confusion_matrix(y_2, y_pred))\n",
        "\n",
        "\n",
        "pipeline_ab_clf(X_train, X_test, y_train, y_test)\n"
      ],
      "execution_count": 105,
      "outputs": [
        {
          "output_type": "stream",
          "text": [
            "Fitting 3 folds for each of 9 candidates, totalling 27 fits\n"
          ],
          "name": "stdout"
        },
        {
          "output_type": "stream",
          "text": [
            "[Parallel(n_jobs=-1)]: Using backend LokyBackend with 2 concurrent workers.\n",
            "[Parallel(n_jobs=-1)]: Done  27 out of  27 | elapsed: 28.7min finished\n",
            "/usr/local/lib/python3.7/dist-packages/sklearn/utils/validation.py:760: DataConversionWarning: A column-vector y was passed when a 1d array was expected. Please change the shape of y to (n_samples, ), for example using ravel().\n",
            "  y = column_or_1d(y, warn=True)\n"
          ],
          "name": "stderr"
        },
        {
          "output_type": "stream",
          "text": [
            "AdaBoostClassifier(algorithm='SAMME.R', base_estimator=None, learning_rate=0.1,\n",
            "                   n_estimators=50, random_state=None)\n",
            "The score of the model is: 0.983267716535433\n",
            "[[ 92  20]\n",
            " [ 14 999]]\n"
          ],
          "name": "stdout"
        }
      ]
    },
    {
      "cell_type": "markdown",
      "metadata": {
        "id": "3L4v4jz0MJKf"
      },
      "source": [
        "### **Final model**"
      ]
    },
    {
      "cell_type": "code",
      "metadata": {
        "id": "5yQuYkUiNyzx",
        "colab": {
          "base_uri": "https://localhost:8080/"
        },
        "outputId": "6a689d8f-4125-4c96-a098-3acb7311fbad"
      },
      "source": [
        "#creating final pipeline\n",
        "\n",
        "def pipeline_final_model(x_1: np.array, x_2: np.array, y_1: np.array, y_2: np.array):\n",
        "    \"\"\"This function returns best model from given paramerters\n",
        "    :param: x_1: np.array: train data after splitting\n",
        "    :param: x_2: np.array: test data after splitting\n",
        "    :param: y_1: np.array: train of values after splitting\n",
        "    :param: y_2: np.array: test of values after splitting\n",
        "\n",
        "    :return: print(best_model.best_estimator_): returns best model out of given\n",
        "    :return: print(\"The score of the model is:\",f1_score(y_test, y_pred)): returns f1_score from choosen best model\n",
        "    :return: print(confusion_matrix(y_test, y_pred)): returns confusion_matrix\n",
        "    \"\"\"\n",
        "    pipe = Pipeline([('pca', PCA(n_components = 0.99)), ('scaler', StandardScaler()), ('classifier', SVC())])\n",
        "\n",
        "    search_space = [{'scaler': [StandardScaler()],\n",
        "                    'pca': [PCA(n_components = 0.99)]},\n",
        "                    {'classifier': [SVC()],\n",
        "                    'classifier__kernel': ['linear', 'poly'],\n",
        "                    'classifier__class_weight': ['balanced'],\n",
        "                    'classifier__C': np.logspace(1,4,5)},\n",
        "                    {'classifier': [KNeighborsClassifier()],\n",
        "                    'classifier__n_neighbors': [2, 4, 6, 8, 10],\n",
        "                    'classifier__algorithm': ['auto']},\n",
        "                    {'classifier': [AdaBoostClassifier()],\n",
        "                    'classifier__n_estimators': [50],\n",
        "                    'classifier__learning_rate': [0.1]}]\n",
        "\n",
        "    grid_search = GridSearchCV(pipe,\n",
        "                              search_space,\n",
        "                              cv=3,\n",
        "                              verbose=2,\n",
        "                              n_jobs=-1,\n",
        "                              scoring='f1')\n",
        "    \n",
        "    best_model = grid_search.fit(x_2, y_2.values)\n",
        "    print(best_model.best_estimator_)\n",
        "    y_pred = best_model.predict(x_2)\n",
        "    print(\"The score of the model is:\",f1_score(y_2, y_pred))\n",
        "    print(confusion_matrix(y_2, y_pred))\n",
        "\n",
        "\n",
        "pipeline_final_model(X_train, X_test, y_train, y_test)"
      ],
      "execution_count": 102,
      "outputs": [
        {
          "output_type": "stream",
          "text": [
            "Fitting 3 folds for each of 17 candidates, totalling 51 fits\n"
          ],
          "name": "stdout"
        },
        {
          "output_type": "stream",
          "text": [
            "[Parallel(n_jobs=-1)]: Using backend LokyBackend with 2 concurrent workers.\n",
            "[Parallel(n_jobs=-1)]: Done  37 tasks      | elapsed:  1.5min\n",
            "[Parallel(n_jobs=-1)]: Done  51 out of  51 | elapsed:  2.2min finished\n",
            "/usr/local/lib/python3.7/dist-packages/sklearn/utils/validation.py:760: DataConversionWarning: A column-vector y was passed when a 1d array was expected. Please change the shape of y to (n_samples, ), for example using ravel().\n",
            "  y = column_or_1d(y, warn=True)\n"
          ],
          "name": "stderr"
        },
        {
          "output_type": "stream",
          "text": [
            "Pipeline(memory=None,\n",
            "         steps=[('pca',\n",
            "                 PCA(copy=True, iterated_power='auto', n_components=0.99,\n",
            "                     random_state=None, svd_solver='auto', tol=0.0,\n",
            "                     whiten=False)),\n",
            "                ('scaler',\n",
            "                 StandardScaler(copy=True, with_mean=True, with_std=True)),\n",
            "                ('classifier',\n",
            "                 AdaBoostClassifier(algorithm='SAMME.R', base_estimator=None,\n",
            "                                    learning_rate=0.1, n_estimators=50,\n",
            "                                    random_state=None))],\n",
            "         verbose=False)\n",
            "The score of the model is: 0.982213438735178\n",
            "[[ 95  17]\n",
            " [ 19 994]]\n"
          ],
          "name": "stdout"
        }
      ]
    },
    {
      "cell_type": "code",
      "metadata": {
        "id": "zIoQLNg8ditE"
      },
      "source": [
        ""
      ],
      "execution_count": null,
      "outputs": []
    },
    {
      "cell_type": "code",
      "metadata": {
        "id": "EhaWndIpBS4X"
      },
      "source": [
        "#sns.swarmplot(data=X_train, y='clf', x='score')"
      ],
      "execution_count": 56,
      "outputs": []
    },
    {
      "cell_type": "code",
      "metadata": {
        "id": "QunDaTsOyP2E"
      },
      "source": [
        "https://blog.prokulski.science/2020/12/23/hyperopt-scikit-learn/"
      ],
      "execution_count": null,
      "outputs": []
    },
    {
      "cell_type": "markdown",
      "metadata": {
        "id": "svmUzS0X5gRh"
      },
      "source": [
        "Pewnie nie muszę przypominać, że podczas poszukiwania parametrów, oceny klasyfikatora powinniśmy dokonywać na danych, które nie były wykorzystywane do treningu. W przeciwnym wypadku padamy ofiarą przeuczenia (ang. overfittingu), czyli dostosowania się algorytmu do naszego zbioru. Obliczony model będzie działał rewelacyjnie na danych treningowych, ale już na rzeczywistych będziemy osiągali słabe wyniki. Najłatwiej można poradzić sobie na dwa sposoby:\n",
        "\n",
        "    Podzielić zbiór treningowy na dwie części, służącą do treningu (train dataset) oraz walidacyjną (validation dataset). Poszukiwanie parametrów uruchamiać na części treningowej a ocenę przeprowadzić na części walidacyjnej."
      ]
    }
  ]
}